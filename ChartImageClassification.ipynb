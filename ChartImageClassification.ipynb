{
 "cells": [
  {
   "cell_type": "markdown",
   "id": "fcd423d6",
   "metadata": {},
   "source": [
    "# <center> Chart Image Classification </center>"
   ]
  },
  {
   "cell_type": "markdown",
   "id": "65cbdb14",
   "metadata": {},
   "source": [
    "## Problem statement:\n",
    "\n",
    "- Develop a CNN based classification architecture for classifying a given chart image to one of   five chart classes,namely “Line”,“Dot Line”,“Horizontal Bar”,“Vertical Bar”, and “Pie” chart.\n",
    "- Use train and val images for training and validation in an appropriate ratio(e.g., 80% for\n",
    "  training and 20 % for validating). The CSV file contains corresponding labels for the images.\n"
   ]
  },
  {
   "cell_type": "code",
   "execution_count": 1,
   "id": "02af6f4d",
   "metadata": {},
   "outputs": [],
   "source": [
    "import pandas as pd\n",
    "import numpy as np\n",
    "import matplotlib.pyplot as plt\n",
    "import os\n",
    "import cv2\n",
    "import tensorflow as tf\n",
    "from tensorflow.keras.preprocessing.image import ImageDataGenerator\n",
    "from sklearn.model_selection import train_test_split\n",
    "from tensorflow.keras.utils import to_categorical\n",
    "from tensorflow.keras.models import Sequential\n",
    "from tensorflow.keras.layers import Conv2D, MaxPooling2D, Dense, Flatten, Dropout\n",
    "from sklearn.metrics import confusion_matrix\n",
    "import seaborn as sns\n",
    "from sklearn.preprocessing import LabelEncoder\n",
    "from tensorflow.keras.layers import BatchNormalization"
   ]
  },
  {
   "cell_type": "code",
   "execution_count": 2,
   "id": "4140cee0",
   "metadata": {},
   "outputs": [],
   "source": [
    "path = './charts/train_val'\n",
    "# Load the CSV file containing the image labels\n",
    "path_val = './charts/test'\n",
    "labels = pd.read_csv(\".\\\\charts\\\\train_val.csv\")"
   ]
  },
  {
   "cell_type": "code",
   "execution_count": 3,
   "id": "570cd0af",
   "metadata": {},
   "outputs": [
    {
     "name": "stdout",
     "output_type": "stream",
     "text": [
      "(1000, 2)\n"
     ]
    }
   ],
   "source": [
    "print(labels.shape)"
   ]
  },
  {
   "cell_type": "code",
   "execution_count": 4,
   "id": "2d726bd9",
   "metadata": {},
   "outputs": [
    {
     "data": {
      "text/plain": [
       "array(['dot_line', 'hbar_categorical', 'line', 'pie', 'vbar_categorical'],\n",
       "      dtype=object)"
      ]
     },
     "execution_count": 4,
     "metadata": {},
     "output_type": "execute_result"
    }
   ],
   "source": [
    "encoder = LabelEncoder()\n",
    "y = ['dot_line', 'hbar_categorical', 'line', 'pie', 'vbar_categorical']\n",
    "\n",
    "encoder.fit(y)\n",
    "# Encode the labels in the 'chart_type' column\n",
    "labels['chart_type_encoded'] = encoder.fit_transform(labels['type'])\n",
    "np.unique(labels['type'])"
   ]
  },
  {
   "cell_type": "code",
   "execution_count": 5,
   "id": "c7f290f8",
   "metadata": {},
   "outputs": [
    {
     "data": {
      "text/plain": [
       "5"
      ]
     },
     "execution_count": 5,
     "metadata": {},
     "output_type": "execute_result"
    }
   ],
   "source": [
    "noOfClasses = len (np.unique(labels['chart_type_encoded']))\n",
    "noOfClasses"
   ]
  },
  {
   "cell_type": "code",
   "execution_count": 6,
   "id": "50df6530",
   "metadata": {},
   "outputs": [],
   "source": [
    "# Load the chart images\n",
    "images = []\n",
    "classNo = []\n",
    "chartimages = []\n",
    "myPicList = os.listdir(path)\n",
    "for filename in myPicList:\n",
    "    curImg = cv2.imread(path +\"/\"+filename)\n",
    "    index = filename.split(\".\")[0]\n",
    "    chartclass =  labels.loc[labels['image_index'] == int(index), 'chart_type_encoded'].iloc[0]\n",
    "    #curImg = cv2.cvtColor(curImg, cv2.COLOR_BGR2RGB)\n",
    "    #curImg = cv2.resize(curImg, (224, 224))\n",
    "    #print(type(chartclass))\n",
    "    #if(chartclass == 1):\n",
    "        #plt.subplot(10, 10,  1)\n",
    "        #plt.imshow(curImg)\n",
    "        #plt.show()        \n",
    "    curImg = cv2.resize(curImg,(32,32))\n",
    "    images.append(curImg)\n",
    "    classNo.append(chartclass)"
   ]
  },
  {
   "cell_type": "code",
   "execution_count": 7,
   "id": "dd98445f",
   "metadata": {},
   "outputs": [],
   "source": [
    "valdateImages = []\n",
    "myPicList = os.listdir(path_val)\n",
    "for y in myPicList:\n",
    "    curImg = cv2.imread(path_val + \"/\"+y)\n",
    "    curImg = cv2.resize(curImg,(32,32))\n",
    "    valdateImages.append(curImg)\n",
    "        \n",
    "        \n"
   ]
  },
  {
   "cell_type": "code",
   "execution_count": 8,
   "id": "179c1bcd",
   "metadata": {},
   "outputs": [],
   "source": [
    "# Convert the images and labels into numpy arrays\n",
    "images = np.array(images)\n",
    "classNo = np.array(classNo)\n",
    "valdateImages = np.array(valdateImages)"
   ]
  },
  {
   "cell_type": "code",
   "execution_count": 9,
   "id": "4c425c7d",
   "metadata": {},
   "outputs": [
    {
     "name": "stdout",
     "output_type": "stream",
     "text": [
      "train data images Shape\n",
      "(1000, 32, 32, 3)\n",
      "train data class No shape \n",
      "(1000,)\n",
      "(50, 32, 32, 3)\n"
     ]
    }
   ],
   "source": [
    "print(\"train data images Shape\")\n",
    "print(images.shape)\n",
    "print(\"train data class No shape \")\n",
    "print(classNo.shape)\n",
    "print(valdateImages.shape)"
   ]
  },
  {
   "cell_type": "markdown",
   "id": "547bfbb0",
   "metadata": {},
   "source": [
    "# Spliting Data"
   ]
  },
  {
   "cell_type": "code",
   "execution_count": 10,
   "id": "a848c770",
   "metadata": {},
   "outputs": [
    {
     "name": "stdout",
     "output_type": "stream",
     "text": [
      "X train data shape is ...... (800, 32, 32, 3)\n",
      "X test data shape is ....... (200, 32, 32, 3)\n",
      "Y train data shape is ...... (800,)\n",
      "Y test data shape is ....... (200,)\n"
     ]
    }
   ],
   "source": [
    "X_train,X_test,y_train,y_test = train_test_split(images,classNo,test_size=0.2)\n",
    "print(\"X train data shape is ......\",X_train.shape)\n",
    "print(\"X test data shape is .......\",X_test.shape)\n",
    "print(\"Y train data shape is ......\",y_train.shape)\n",
    "print(\"Y test data shape is .......\",y_test.shape)"
   ]
  },
  {
   "cell_type": "markdown",
   "id": "c0fbe95f",
   "metadata": {},
   "source": [
    "# spliting validate data"
   ]
  },
  {
   "cell_type": "code",
   "execution_count": 11,
   "id": "572126e9",
   "metadata": {},
   "outputs": [],
   "source": [
    "#X_train,X_validate,y_train,y_validate = train_test_split(X_train,y_train,test_size=0.2)\n",
    "#print(\"X train data shape is ......\",X_train.shape)\n",
    "#print(\"X validate data shape is .......\",X_validate.shape)\n",
    "#print(\"Y train data shape is ......\",y_train.shape)\n",
    "#print(\"Y validate data shape is .......\",y_validate.shape)"
   ]
  },
  {
   "cell_type": "markdown",
   "id": "2ec9b2b5",
   "metadata": {},
   "source": [
    "# check how many images we have of each class"
   ]
  },
  {
   "cell_type": "code",
   "execution_count": 12,
   "id": "bea6aabc",
   "metadata": {},
   "outputs": [
    {
     "name": "stdout",
     "output_type": "stream",
     "text": [
      "5\n",
      "[161, 162, 156, 159, 162]\n"
     ]
    }
   ],
   "source": [
    "numOfSamples = []\n",
    "print(noOfClasses)\n",
    "for x in range (0, noOfClasses):\n",
    "    numOfSamples.append(len(np.where(y_train == x)[0]))\n",
    "    #print(len(np.where(y_train == x)[0]))\n",
    "print(numOfSamples)"
   ]
  },
  {
   "cell_type": "code",
   "execution_count": 13,
   "id": "b040553f",
   "metadata": {},
   "outputs": [],
   "source": [
    "import matplotlib.pyplot as plt"
   ]
  },
  {
   "cell_type": "code",
   "execution_count": 14,
   "id": "b9574290",
   "metadata": {},
   "outputs": [
    {
     "data": {
      "image/png": "[encoded data removed]",
      "text/plain": [
       "<Figure size 1000x500 with 1 Axes>"
      ]
     },
     "metadata": {},
     "output_type": "display_data"
    }
   ],
   "source": [
    "plt.figure(figsize=(10,5))\n",
    "plt.bar(range(0,noOfClasses), numOfSamples)\n",
    "plt.xlabel('Class ID')\n",
    "plt.ylabel('Number of Images')\n",
    "  \n",
    "# naming the title of the plot\n",
    "plt.title('Number of Images in each class')\n",
    "plt.show()"
   ]
  },
  {
   "cell_type": "code",
   "execution_count": 15,
   "id": "007bbf10",
   "metadata": {},
   "outputs": [],
   "source": [
    "def preProcessing(img):\n",
    "    img = cv2.cvtColor(img, cv2.COLOR_BGR2GRAY)\n",
    "    img = cv2.equalizeHist(img)\n",
    "    img = img/255\n",
    "    return img"
   ]
  },
  {
   "cell_type": "code",
   "execution_count": 16,
   "id": "5790b7f3",
   "metadata": {},
   "outputs": [],
   "source": [
    "X_train = np.array(list(map(preProcessing,X_train)))"
   ]
  },
  {
   "cell_type": "code",
   "execution_count": 17,
   "id": "b3a95c76",
   "metadata": {},
   "outputs": [],
   "source": [
    "X_test = np.array(list(map(preProcessing,X_test)))\n",
    "X_validate = np.array(list(map(preProcessing,valdateImages)))"
   ]
  },
  {
   "cell_type": "markdown",
   "id": "a0e86177",
   "metadata": {},
   "source": [
    "# adding depth"
   ]
  },
  {
   "cell_type": "code",
   "execution_count": 18,
   "id": "301401ed",
   "metadata": {},
   "outputs": [
    {
     "name": "stdout",
     "output_type": "stream",
     "text": [
      "(800, 32, 32)\n",
      "(800, 32, 32, 1)\n"
     ]
    }
   ],
   "source": [
    "print(X_train.shape)\n",
    "X_train = X_train.reshape(X_train.shape[0],X_train.shape[1],X_train.shape[2],1)\n",
    "print(X_train.shape)"
   ]
  },
  {
   "cell_type": "code",
   "execution_count": 19,
   "id": "74c28c68",
   "metadata": {},
   "outputs": [],
   "source": [
    "X_test = X_test.reshape(X_test.shape[0],X_test.shape[1],X_test.shape[2],1)\n",
    "X_validate = X_validate.reshape(X_validate.shape[0],X_validate.shape[1],X_validate.shape[2],1)"
   ]
  },
  {
   "cell_type": "markdown",
   "id": "a7e7069d",
   "metadata": {},
   "source": [
    "# Agumentation"
   ]
  },
  {
   "cell_type": "code",
   "execution_count": 20,
   "id": "b223adb1",
   "metadata": {},
   "outputs": [],
   "source": [
    "import tensorflow as tf\n",
    "from tensorflow.keras.preprocessing.image import ImageDataGenerator\n",
    "from tensorflow.keras.utils import to_categorical"
   ]
  },
  {
   "cell_type": "code",
   "execution_count": 21,
   "id": "4178e07b",
   "metadata": {},
   "outputs": [],
   "source": [
    "dataGen = ImageDataGenerator(rotation_range=20,\n",
    "                             width_shift_range=0.2,\n",
    "                             height_shift_range=0.2,\n",
    "                             shear_range = 0.1,\n",
    "                             zoom_range = 0.2)\n",
    "dataGen.fit(X_train)\n",
    "#dataGen.fit(X_test)\n",
    "#dataGen.fit(X_validate)"
   ]
  },
  {
   "cell_type": "code",
   "execution_count": 22,
   "id": "d022fa74",
   "metadata": {},
   "outputs": [],
   "source": [
    "y_train = to_categorical(y_train, noOfClasses)\n",
    "y_test = to_categorical(y_test, noOfClasses)\n",
    "#y_validate = to_categorical(y_validate, noOfClasses)"
   ]
  },
  {
   "cell_type": "code",
   "execution_count": 23,
   "id": "17d60bcf",
   "metadata": {},
   "outputs": [],
   "source": [
    "from tensorflow.python.keras.layers.convolutional import Conv2D\n",
    "from tensorflow.keras.layers import Dense, Dropout, Activation, Flatten\n",
    "from tensorflow.python.keras.layers.convolutional import MaxPooling2D\n",
    "from tensorflow.keras.layers import Flatten\n",
    "from tensorflow.keras.models import Sequential\n",
    "from tensorflow.keras.optimizers import Adam"
   ]
  },
  {
   "cell_type": "code",
   "execution_count": 24,
   "id": "7b32d6b7",
   "metadata": {},
   "outputs": [],
   "source": [
    "def myModel():\n",
    "    noOfFilters = 60\n",
    "    sizeOfFilter1 = (5,5)\n",
    "    sizeOfFilter2 = (3,3)\n",
    "    sizeOfPool = (2,2)\n",
    "    noOfNode = 500\n",
    "    imageDimensions = (32,32,3)\n",
    "    model = Sequential()\n",
    "    model.add((Conv2D(noOfFilters,sizeOfFilter1,input_shape = (imageDimensions[0],imageDimensions[1],1),activation='relu')))\n",
    "    model.add((Conv2D(noOfFilters,sizeOfFilter1,activation='relu')))\n",
    "    model.add(MaxPooling2D(pool_size = sizeOfPool))\n",
    "    model.add(BatchNormalization()) \n",
    "    model.add((Conv2D(noOfFilters//2,sizeOfFilter2,activation='relu')))\n",
    "    model.add((Conv2D(noOfFilters//2,sizeOfFilter2,activation='relu')))\n",
    "    model.add(MaxPooling2D(pool_size = sizeOfPool))\n",
    "    model.add(BatchNormalization()) \n",
    "    model.add(Dropout(0.5))\n",
    "    model.add(Flatten())\n",
    "    model.add(Dense(noOfNode,activation = 'relu'))\n",
    "    model.add(Dropout(0.5))\n",
    "    model.add(Dense(noOfClasses,activation = 'softmax'))\n",
    "    model.compile(Adam(learning_rate = 0.001),loss = 'categorical_crossentropy',metrics = ['accuracy'])\n",
    "    return model"
   ]
  },
  {
   "cell_type": "markdown",
   "id": "43797eb9",
   "metadata": {},
   "source": [
    "## Model 1"
   ]
  },
  {
   "cell_type": "code",
   "execution_count": 25,
   "id": "7816d61a",
   "metadata": {},
   "outputs": [
    {
     "name": "stdout",
     "output_type": "stream",
     "text": [
      "Epoch 1/30\n",
      "20/20 [==============================] - 4s 133ms/step - loss: 1.1749 - accuracy: 0.5797 - val_loss: 1.7254 - val_accuracy: 0.1950\n",
      "Epoch 2/30\n",
      "20/20 [==============================] - 2s 121ms/step - loss: 0.4283 - accuracy: 0.8203 - val_loss: 2.0027 - val_accuracy: 0.1950\n",
      "Epoch 3/30\n",
      "20/20 [==============================] - 2s 117ms/step - loss: 0.3331 - accuracy: 0.8422 - val_loss: 2.3686 - val_accuracy: 0.2050\n",
      "Epoch 4/30\n",
      "20/20 [==============================] - 2s 120ms/step - loss: 0.3127 - accuracy: 0.8531 - val_loss: 2.3756 - val_accuracy: 0.1950\n",
      "Epoch 5/30\n",
      "20/20 [==============================] - 2s 114ms/step - loss: 0.2812 - accuracy: 0.8703 - val_loss: 2.5193 - val_accuracy: 0.2100\n",
      "Epoch 6/30\n",
      "20/20 [==============================] - 2s 116ms/step - loss: 0.1766 - accuracy: 0.9234 - val_loss: 2.7392 - val_accuracy: 0.1950\n",
      "Epoch 7/30\n",
      "20/20 [==============================] - 2s 117ms/step - loss: 0.1839 - accuracy: 0.9141 - val_loss: 1.7174 - val_accuracy: 0.3100\n",
      "Epoch 8/30\n",
      "20/20 [==============================] - 2s 124ms/step - loss: 0.1769 - accuracy: 0.9234 - val_loss: 2.0524 - val_accuracy: 0.2250\n",
      "Epoch 9/30\n",
      "20/20 [==============================] - 3s 128ms/step - loss: 0.1457 - accuracy: 0.9344 - val_loss: 2.1330 - val_accuracy: 0.2250\n",
      "Epoch 10/30\n",
      "20/20 [==============================] - 3s 139ms/step - loss: 0.1159 - accuracy: 0.9500 - val_loss: 2.8900 - val_accuracy: 0.1950\n",
      "Epoch 11/30\n",
      "20/20 [==============================] - 3s 128ms/step - loss: 0.0796 - accuracy: 0.9688 - val_loss: 2.2365 - val_accuracy: 0.2350\n",
      "Epoch 12/30\n",
      "20/20 [==============================] - 3s 131ms/step - loss: 0.1084 - accuracy: 0.9547 - val_loss: 3.2051 - val_accuracy: 0.2450\n",
      "Epoch 13/30\n",
      "20/20 [==============================] - 3s 128ms/step - loss: 0.1030 - accuracy: 0.9578 - val_loss: 1.6314 - val_accuracy: 0.4350\n",
      "Epoch 14/30\n",
      "20/20 [==============================] - 3s 127ms/step - loss: 0.0634 - accuracy: 0.9719 - val_loss: 1.4030 - val_accuracy: 0.4050\n",
      "Epoch 15/30\n",
      "20/20 [==============================] - 3s 127ms/step - loss: 0.0549 - accuracy: 0.9766 - val_loss: 0.8892 - val_accuracy: 0.5250\n",
      "Epoch 16/30\n",
      "20/20 [==============================] - 3s 126ms/step - loss: 0.0762 - accuracy: 0.9703 - val_loss: 0.7562 - val_accuracy: 0.6650\n",
      "Epoch 17/30\n",
      "20/20 [==============================] - 3s 127ms/step - loss: 0.0581 - accuracy: 0.9781 - val_loss: 0.6627 - val_accuracy: 0.7600\n",
      "Epoch 18/30\n",
      "20/20 [==============================] - 3s 130ms/step - loss: 0.0374 - accuracy: 0.9859 - val_loss: 0.3317 - val_accuracy: 0.8550\n",
      "Epoch 19/30\n",
      "20/20 [==============================] - 3s 129ms/step - loss: 0.0431 - accuracy: 0.9797 - val_loss: 1.5712 - val_accuracy: 0.5700\n",
      "Epoch 20/30\n",
      "20/20 [==============================] - 3s 126ms/step - loss: 0.0591 - accuracy: 0.9828 - val_loss: 0.8909 - val_accuracy: 0.7650\n",
      "Epoch 21/30\n",
      "20/20 [==============================] - 3s 125ms/step - loss: 0.0367 - accuracy: 0.9859 - val_loss: 0.2868 - val_accuracy: 0.8700\n",
      "Epoch 22/30\n",
      "20/20 [==============================] - 3s 129ms/step - loss: 0.0437 - accuracy: 0.9828 - val_loss: 0.4478 - val_accuracy: 0.8300\n",
      "Epoch 23/30\n",
      "20/20 [==============================] - 3s 135ms/step - loss: 0.0363 - accuracy: 0.9828 - val_loss: 0.2549 - val_accuracy: 0.8900\n",
      "Epoch 24/30\n",
      "20/20 [==============================] - 3s 130ms/step - loss: 0.0210 - accuracy: 0.9937 - val_loss: 0.7095 - val_accuracy: 0.7650\n",
      "Epoch 25/30\n",
      "20/20 [==============================] - 3s 129ms/step - loss: 0.0485 - accuracy: 0.9859 - val_loss: 0.2027 - val_accuracy: 0.9350\n",
      "Epoch 26/30\n",
      "20/20 [==============================] - 3s 132ms/step - loss: 0.0423 - accuracy: 0.9828 - val_loss: 0.4734 - val_accuracy: 0.8500\n",
      "Epoch 27/30\n",
      "20/20 [==============================] - 3s 133ms/step - loss: 0.0691 - accuracy: 0.9812 - val_loss: 1.7249 - val_accuracy: 0.7800\n",
      "Epoch 28/30\n",
      "20/20 [==============================] - 3s 128ms/step - loss: 0.0517 - accuracy: 0.9812 - val_loss: 0.6025 - val_accuracy: 0.8050\n",
      "Epoch 29/30\n",
      "20/20 [==============================] - 3s 127ms/step - loss: 0.0243 - accuracy: 0.9922 - val_loss: 0.1517 - val_accuracy: 0.9400\n",
      "Epoch 30/30\n",
      "20/20 [==============================] - 3s 128ms/step - loss: 0.0186 - accuracy: 0.9937 - val_loss: 0.2332 - val_accuracy: 0.8950\n"
     ]
    }
   ],
   "source": [
    "model1 = myModel()\n",
    "#print(modelwe.summary())\n",
    "batchSizeVal = 40\n",
    "epochsVal = 30\n",
    "stepsPerEpoch = 20\n",
    "# history = model.fit(dataGen.flow(X_train,y_train,batch_size = batchSizeVal),\n",
    "#                    steps_per_epoch = stepsPerEpoch, epochs = epochsVal, validation_data = (X_test,y_test),\n",
    "#                    shuffle = 1)\n",
    "history = model1.fit(X_train, y_train, validation_data=(X_test, y_test), steps_per_epoch = stepsPerEpoch, epochs = epochsVal, batch_size=32)\n"
   ]
  },
  {
   "cell_type": "code",
   "execution_count": 26,
   "id": "3814626a",
   "metadata": {},
   "outputs": [
    {
     "data": {
      "image/png": "[encoded data removed]",
      "text/plain": [
       "<Figure size 640x480 with 1 Axes>"
      ]
     },
     "metadata": {},
     "output_type": "display_data"
    },
    {
     "data": {
      "image/png": "[encoded data removed]",
      "text/plain": [
       "<Figure size 640x480 with 1 Axes>"
      ]
     },
     "metadata": {},
     "output_type": "display_data"
    },
    {
     "name": "stdout",
     "output_type": "stream",
     "text": [
      "test score 0.23315641283988953\n",
      "Test Accuracy  0.8949999809265137\n"
     ]
    }
   ],
   "source": [
    "plt.figure(1)\n",
    "plt.plot(history.history['loss'])\n",
    "plt.plot(history.history['val_loss'])\n",
    "plt.legend(['Training','Valiadation'])\n",
    "plt.title('Loss')\n",
    "plt.xlabel('epoch')\n",
    "\n",
    "plt.figure(2)\n",
    "plt.plot(history.history['accuracy'])\n",
    "plt.plot(history.history['val_accuracy'])\n",
    "plt.legend(['Training','Valiadation'])\n",
    "plt.title('Accuracys')\n",
    "plt.xlabel('epoch')\n",
    "plt.show()\n",
    "score = model1.evaluate(X_test,y_test,verbose = 0)\n",
    "print('test score' , score[0])\n",
    "print('Test Accuracy ',score[1])"
   ]
  },
  {
   "cell_type": "code",
   "execution_count": 27,
   "id": "25b4289f",
   "metadata": {},
   "outputs": [
    {
     "name": "stdout",
     "output_type": "stream",
     "text": [
      "7/7 [==============================] - 0s 22ms/step\n"
     ]
    },
    {
     "data": {
      "image/png": "[encoded data removed]",
      "text/plain": [
       "<Figure size 1000x1000 with 1 Axes>"
      ]
     },
     "metadata": {},
     "output_type": "display_data"
    }
   ],
   "source": [
    "fig = plt.figure(figsize=(10, 10)) # Set Figure\n",
    "\n",
    "y_pred = model1.predict(X_test) # Predict class probabilities as 2 => [0.1, 0, 0.9, 0, 0, 0, 0, 0, 0, 0]\n",
    "\n",
    "Y_pred = np.argmax(y_pred, 1) # Decode Predicted labels\n",
    "Y_test = np.argmax(y_test, 1) # Decode labels\n",
    "\n",
    "mat = confusion_matrix(Y_test, Y_pred) # Confusion matrix\n",
    "\n",
    "# Plot Confusion matrix\n",
    "sns.heatmap(mat.T, square=True, annot=True, cbar=False, cmap=plt.cm.Blues, fmt='.0f')\n",
    "plt.xlabel('Predicted Values')\n",
    "plt.ylabel('True Values');\n",
    "plt.show();"
   ]
  },
  {
   "cell_type": "code",
   "execution_count": 28,
   "id": "e459948c",
   "metadata": {},
   "outputs": [
    {
     "name": "stdout",
     "output_type": "stream",
     "text": [
      "2/2 [==============================] - 0s 17ms/step\n",
      "50\n"
     ]
    }
   ],
   "source": [
    "y_predicted = model1.predict(X_validate)\n",
    "#y_predicted[4]\n",
    "lenofval = len(X_validate)\n",
    "print(lenofval)\n",
    "chatlabel = []\n",
    "imageindex = []\n",
    "for x in range (0, lenofval):\n",
    "    #print(x)\n",
    "    pred = np.argmax(y_predicted[x])\n",
    "    #print('prs val',pred)\n",
    "    chatlabel.append(pred)\n",
    "    #imageindex.append(x)\n",
    "#chatlabel\n",
    "#imageindex\n",
    "    #plt.matshow(X_validate[x])"
   ]
  },
  {
   "cell_type": "code",
   "execution_count": 29,
   "id": "21bf3722",
   "metadata": {},
   "outputs": [
    {
     "data": {
      "text/html": [
       "<div>\n",
       "<style scoped>\n",
       "    .dataframe tbody tr th:only-of-type {\n",
       "        vertical-align: middle;\n",
       "    }\n",
       "\n",
       "    .dataframe tbody tr th {\n",
       "        vertical-align: top;\n",
       "    }\n",
       "\n",
       "    .dataframe thead th {\n",
       "        text-align: right;\n",
       "    }\n",
       "</style>\n",
       "<table border=\"1\" class=\"dataframe\">\n",
       "  <thead>\n",
       "    <tr style=\"text-align: right;\">\n",
       "      <th></th>\n",
       "      <th>chart_type_encoded</th>\n",
       "      <th>chart_type</th>\n",
       "    </tr>\n",
       "  </thead>\n",
       "  <tbody>\n",
       "    <tr>\n",
       "      <th>0</th>\n",
       "      <td>4</td>\n",
       "      <td>vbar_categorical</td>\n",
       "    </tr>\n",
       "    <tr>\n",
       "      <th>1</th>\n",
       "      <td>1</td>\n",
       "      <td>hbar_categorical</td>\n",
       "    </tr>\n",
       "    <tr>\n",
       "      <th>2</th>\n",
       "      <td>0</td>\n",
       "      <td>dot_line</td>\n",
       "    </tr>\n",
       "    <tr>\n",
       "      <th>3</th>\n",
       "      <td>1</td>\n",
       "      <td>hbar_categorical</td>\n",
       "    </tr>\n",
       "    <tr>\n",
       "      <th>4</th>\n",
       "      <td>0</td>\n",
       "      <td>dot_line</td>\n",
       "    </tr>\n",
       "    <tr>\n",
       "      <th>5</th>\n",
       "      <td>0</td>\n",
       "      <td>dot_line</td>\n",
       "    </tr>\n",
       "    <tr>\n",
       "      <th>6</th>\n",
       "      <td>3</td>\n",
       "      <td>pie</td>\n",
       "    </tr>\n",
       "    <tr>\n",
       "      <th>7</th>\n",
       "      <td>0</td>\n",
       "      <td>dot_line</td>\n",
       "    </tr>\n",
       "    <tr>\n",
       "      <th>8</th>\n",
       "      <td>1</td>\n",
       "      <td>hbar_categorical</td>\n",
       "    </tr>\n",
       "    <tr>\n",
       "      <th>9</th>\n",
       "      <td>4</td>\n",
       "      <td>vbar_categorical</td>\n",
       "    </tr>\n",
       "    <tr>\n",
       "      <th>10</th>\n",
       "      <td>0</td>\n",
       "      <td>dot_line</td>\n",
       "    </tr>\n",
       "    <tr>\n",
       "      <th>11</th>\n",
       "      <td>1</td>\n",
       "      <td>hbar_categorical</td>\n",
       "    </tr>\n",
       "    <tr>\n",
       "      <th>12</th>\n",
       "      <td>4</td>\n",
       "      <td>vbar_categorical</td>\n",
       "    </tr>\n",
       "    <tr>\n",
       "      <th>13</th>\n",
       "      <td>0</td>\n",
       "      <td>dot_line</td>\n",
       "    </tr>\n",
       "    <tr>\n",
       "      <th>14</th>\n",
       "      <td>3</td>\n",
       "      <td>pie</td>\n",
       "    </tr>\n",
       "    <tr>\n",
       "      <th>15</th>\n",
       "      <td>0</td>\n",
       "      <td>dot_line</td>\n",
       "    </tr>\n",
       "    <tr>\n",
       "      <th>16</th>\n",
       "      <td>3</td>\n",
       "      <td>pie</td>\n",
       "    </tr>\n",
       "    <tr>\n",
       "      <th>17</th>\n",
       "      <td>4</td>\n",
       "      <td>vbar_categorical</td>\n",
       "    </tr>\n",
       "    <tr>\n",
       "      <th>18</th>\n",
       "      <td>1</td>\n",
       "      <td>hbar_categorical</td>\n",
       "    </tr>\n",
       "    <tr>\n",
       "      <th>19</th>\n",
       "      <td>1</td>\n",
       "      <td>hbar_categorical</td>\n",
       "    </tr>\n",
       "    <tr>\n",
       "      <th>20</th>\n",
       "      <td>0</td>\n",
       "      <td>dot_line</td>\n",
       "    </tr>\n",
       "    <tr>\n",
       "      <th>21</th>\n",
       "      <td>3</td>\n",
       "      <td>pie</td>\n",
       "    </tr>\n",
       "    <tr>\n",
       "      <th>22</th>\n",
       "      <td>3</td>\n",
       "      <td>pie</td>\n",
       "    </tr>\n",
       "    <tr>\n",
       "      <th>23</th>\n",
       "      <td>1</td>\n",
       "      <td>hbar_categorical</td>\n",
       "    </tr>\n",
       "    <tr>\n",
       "      <th>24</th>\n",
       "      <td>1</td>\n",
       "      <td>hbar_categorical</td>\n",
       "    </tr>\n",
       "    <tr>\n",
       "      <th>25</th>\n",
       "      <td>2</td>\n",
       "      <td>line</td>\n",
       "    </tr>\n",
       "    <tr>\n",
       "      <th>26</th>\n",
       "      <td>4</td>\n",
       "      <td>vbar_categorical</td>\n",
       "    </tr>\n",
       "    <tr>\n",
       "      <th>27</th>\n",
       "      <td>1</td>\n",
       "      <td>hbar_categorical</td>\n",
       "    </tr>\n",
       "    <tr>\n",
       "      <th>28</th>\n",
       "      <td>1</td>\n",
       "      <td>hbar_categorical</td>\n",
       "    </tr>\n",
       "    <tr>\n",
       "      <th>29</th>\n",
       "      <td>2</td>\n",
       "      <td>line</td>\n",
       "    </tr>\n",
       "    <tr>\n",
       "      <th>30</th>\n",
       "      <td>4</td>\n",
       "      <td>vbar_categorical</td>\n",
       "    </tr>\n",
       "    <tr>\n",
       "      <th>31</th>\n",
       "      <td>0</td>\n",
       "      <td>dot_line</td>\n",
       "    </tr>\n",
       "    <tr>\n",
       "      <th>32</th>\n",
       "      <td>4</td>\n",
       "      <td>vbar_categorical</td>\n",
       "    </tr>\n",
       "    <tr>\n",
       "      <th>33</th>\n",
       "      <td>0</td>\n",
       "      <td>dot_line</td>\n",
       "    </tr>\n",
       "    <tr>\n",
       "      <th>34</th>\n",
       "      <td>2</td>\n",
       "      <td>line</td>\n",
       "    </tr>\n",
       "    <tr>\n",
       "      <th>35</th>\n",
       "      <td>0</td>\n",
       "      <td>dot_line</td>\n",
       "    </tr>\n",
       "    <tr>\n",
       "      <th>36</th>\n",
       "      <td>4</td>\n",
       "      <td>vbar_categorical</td>\n",
       "    </tr>\n",
       "    <tr>\n",
       "      <th>37</th>\n",
       "      <td>3</td>\n",
       "      <td>pie</td>\n",
       "    </tr>\n",
       "    <tr>\n",
       "      <th>38</th>\n",
       "      <td>1</td>\n",
       "      <td>hbar_categorical</td>\n",
       "    </tr>\n",
       "    <tr>\n",
       "      <th>39</th>\n",
       "      <td>3</td>\n",
       "      <td>pie</td>\n",
       "    </tr>\n",
       "    <tr>\n",
       "      <th>40</th>\n",
       "      <td>1</td>\n",
       "      <td>hbar_categorical</td>\n",
       "    </tr>\n",
       "    <tr>\n",
       "      <th>41</th>\n",
       "      <td>2</td>\n",
       "      <td>line</td>\n",
       "    </tr>\n",
       "    <tr>\n",
       "      <th>42</th>\n",
       "      <td>3</td>\n",
       "      <td>pie</td>\n",
       "    </tr>\n",
       "    <tr>\n",
       "      <th>43</th>\n",
       "      <td>3</td>\n",
       "      <td>pie</td>\n",
       "    </tr>\n",
       "    <tr>\n",
       "      <th>44</th>\n",
       "      <td>2</td>\n",
       "      <td>line</td>\n",
       "    </tr>\n",
       "    <tr>\n",
       "      <th>45</th>\n",
       "      <td>2</td>\n",
       "      <td>line</td>\n",
       "    </tr>\n",
       "    <tr>\n",
       "      <th>46</th>\n",
       "      <td>4</td>\n",
       "      <td>vbar_categorical</td>\n",
       "    </tr>\n",
       "    <tr>\n",
       "      <th>47</th>\n",
       "      <td>4</td>\n",
       "      <td>vbar_categorical</td>\n",
       "    </tr>\n",
       "    <tr>\n",
       "      <th>48</th>\n",
       "      <td>2</td>\n",
       "      <td>line</td>\n",
       "    </tr>\n",
       "    <tr>\n",
       "      <th>49</th>\n",
       "      <td>2</td>\n",
       "      <td>line</td>\n",
       "    </tr>\n",
       "  </tbody>\n",
       "</table>\n",
       "</div>"
      ],
      "text/plain": [
       "    chart_type_encoded        chart_type\n",
       "0                    4  vbar_categorical\n",
       "1                    1  hbar_categorical\n",
       "2                    0          dot_line\n",
       "3                    1  hbar_categorical\n",
       "4                    0          dot_line\n",
       "5                    0          dot_line\n",
       "6                    3               pie\n",
       "7                    0          dot_line\n",
       "8                    1  hbar_categorical\n",
       "9                    4  vbar_categorical\n",
       "10                   0          dot_line\n",
       "11                   1  hbar_categorical\n",
       "12                   4  vbar_categorical\n",
       "13                   0          dot_line\n",
       "14                   3               pie\n",
       "15                   0          dot_line\n",
       "16                   3               pie\n",
       "17                   4  vbar_categorical\n",
       "18                   1  hbar_categorical\n",
       "19                   1  hbar_categorical\n",
       "20                   0          dot_line\n",
       "21                   3               pie\n",
       "22                   3               pie\n",
       "23                   1  hbar_categorical\n",
       "24                   1  hbar_categorical\n",
       "25                   2              line\n",
       "26                   4  vbar_categorical\n",
       "27                   1  hbar_categorical\n",
       "28                   1  hbar_categorical\n",
       "29                   2              line\n",
       "30                   4  vbar_categorical\n",
       "31                   0          dot_line\n",
       "32                   4  vbar_categorical\n",
       "33                   0          dot_line\n",
       "34                   2              line\n",
       "35                   0          dot_line\n",
       "36                   4  vbar_categorical\n",
       "37                   3               pie\n",
       "38                   1  hbar_categorical\n",
       "39                   3               pie\n",
       "40                   1  hbar_categorical\n",
       "41                   2              line\n",
       "42                   3               pie\n",
       "43                   3               pie\n",
       "44                   2              line\n",
       "45                   2              line\n",
       "46                   4  vbar_categorical\n",
       "47                   4  vbar_categorical\n",
       "48                   2              line\n",
       "49                   2              line"
      ]
     },
     "execution_count": 29,
     "metadata": {},
     "output_type": "execute_result"
    }
   ],
   "source": [
    "df = pd.DataFrame(chatlabel, columns =['chart_type_encoded'])\n",
    "y = ['dot_line', 'hbar_categorical', 'line', 'pie', 'vbar_categorical']\n",
    "label_enc = LabelEncoder()\n",
    "label_enc.fit(y)\n",
    "# Encode the labels in the 'chart_type' column\n",
    "df['chart_type'] = label_enc.inverse_transform(df['chart_type_encoded'])\n",
    "df"
   ]
  },
  {
   "cell_type": "code",
   "execution_count": 30,
   "id": "5e98cc0f",
   "metadata": {},
   "outputs": [],
   "source": [
    "train_steps = X_train.shape[0] \n",
    "valid_steps = X_test.shape[0] \n",
    "\n",
    "es = tf.keras.callbacks.EarlyStopping(\n",
    "        monitor=\"val_accuracy\", # metrics to monitor\n",
    "        patience=10, # how many epochs before stop\n",
    "        verbose=1,\n",
    "        mode=\"max\", # we need the maximum accuracy.\n",
    "        restore_best_weights=True, # \n",
    "     )\n",
    "\n",
    "rp = tf.keras.callbacks.ReduceLROnPlateau(\n",
    "        monitor=\"val_accuracy\",\n",
    "        factor=0.2,\n",
    "        patience=3,\n",
    "        verbose=1,\n",
    "        mode=\"max\",\n",
    "        min_lr=0.00001,\n",
    "     )"
   ]
  },
  {
   "cell_type": "markdown",
   "id": "f0682813",
   "metadata": {},
   "source": [
    "## Model 2"
   ]
  },
  {
   "cell_type": "code",
   "execution_count": null,
   "id": "d3051e22",
   "metadata": {},
   "outputs": [
    {
     "name": "stdout",
     "output_type": "stream",
     "text": [
      "Epoch 1/30\n",
      "20/20 [==============================] - 4s 135ms/step - loss: 1.0762 - accuracy: 0.6187 - val_loss: 1.7947 - val_accuracy: 0.1950 - lr: 0.0010\n",
      "Epoch 2/30\n",
      "20/20 [==============================] - 2s 125ms/step - loss: 0.4793 - accuracy: 0.7859 - val_loss: 2.4477 - val_accuracy: 0.1950 - lr: 0.0010\n",
      "Epoch 3/30\n",
      "20/20 [==============================] - 3s 127ms/step - loss: 0.3605 - accuracy: 0.8422 - val_loss: 2.8680 - val_accuracy: 0.1900 - lr: 0.0010\n",
      "Epoch 4/30\n",
      "20/20 [==============================] - 3s 125ms/step - loss: 0.2836 - accuracy: 0.8797 - val_loss: 3.0594 - val_accuracy: 0.2200 - lr: 0.0010\n",
      "Epoch 5/30\n",
      "20/20 [==============================] - 3s 126ms/step - loss: 0.2129 - accuracy: 0.9000 - val_loss: 3.5934 - val_accuracy: 0.2250 - lr: 0.0010\n",
      "Epoch 6/30\n",
      "20/20 [==============================] - 3s 126ms/step - loss: 0.2024 - accuracy: 0.9219 - val_loss: 3.7455 - val_accuracy: 0.2200 - lr: 0.0010\n",
      "Epoch 7/30\n",
      "20/20 [==============================] - 3s 126ms/step - loss: 0.1447 - accuracy: 0.9391 - val_loss: 4.3947 - val_accuracy: 0.2200 - lr: 0.0010\n",
      "Epoch 8/30\n",
      "20/20 [==============================] - 3s 126ms/step - loss: 0.1432 - accuracy: 0.9391 - val_loss: 3.9501 - val_accuracy: 0.2300 - lr: 0.0010\n",
      "Epoch 9/30\n",
      "20/20 [==============================] - 3s 125ms/step - loss: 0.1211 - accuracy: 0.9500 - val_loss: 4.7800 - val_accuracy: 0.2200 - lr: 0.0010\n",
      "Epoch 10/30\n",
      "20/20 [==============================] - 3s 126ms/step - loss: 0.1246 - accuracy: 0.9484 - val_loss: 3.8709 - val_accuracy: 0.2250 - lr: 0.0010\n",
      "Epoch 11/30\n",
      "20/20 [==============================] - ETA: 0s - loss: 0.0892 - accuracy: 0.9625\n",
      "Epoch 11: ReduceLROnPlateau reducing learning rate to 0.00020000000949949026.\n",
      "20/20 [==============================] - 3s 133ms/step - loss: 0.0892 - accuracy: 0.9625 - val_loss: 4.0268 - val_accuracy: 0.2200 - lr: 0.0010\n",
      "Epoch 12/30\n",
      "20/20 [==============================] - 3s 127ms/step - loss: 0.0641 - accuracy: 0.9797 - val_loss: 3.6769 - val_accuracy: 0.2300 - lr: 2.0000e-04\n",
      "Epoch 13/30\n",
      "20/20 [==============================] - 3s 125ms/step - loss: 0.0556 - accuracy: 0.9812 - val_loss: 3.7385 - val_accuracy: 0.2200 - lr: 2.0000e-04\n",
      "Epoch 14/30\n",
      "20/20 [==============================] - 3s 129ms/step - loss: 0.0577 - accuracy: 0.9781 - val_loss: 3.2389 - val_accuracy: 0.2350 - lr: 2.0000e-04\n",
      "Epoch 15/30\n",
      "20/20 [==============================] - 3s 129ms/step - loss: 0.0388 - accuracy: 0.9859 - val_loss: 3.2048 - val_accuracy: 0.2700 - lr: 2.0000e-04\n",
      "Epoch 16/30\n",
      "20/20 [==============================] - 3s 131ms/step - loss: 0.0391 - accuracy: 0.9891 - val_loss: 2.4822 - val_accuracy: 0.3100 - lr: 2.0000e-04\n",
      "Epoch 17/30\n",
      "20/20 [==============================] - 3s 134ms/step - loss: 0.0190 - accuracy: 0.9984 - val_loss: 1.9970 - val_accuracy: 0.4000 - lr: 2.0000e-04\n",
      "Epoch 18/30\n",
      "20/20 [==============================] - 3s 132ms/step - loss: 0.0303 - accuracy: 0.9875 - val_loss: 1.4023 - val_accuracy: 0.5050 - lr: 2.0000e-04\n",
      "Epoch 19/30\n",
      "20/20 [==============================] - 3s 134ms/step - loss: 0.0189 - accuracy: 0.9969 - val_loss: 1.1745 - val_accuracy: 0.5900 - lr: 2.0000e-04\n",
      "Epoch 20/30\n",
      "20/20 [==============================] - 3s 133ms/step - loss: 0.0197 - accuracy: 0.9922 - val_loss: 1.0669 - val_accuracy: 0.6400 - lr: 2.0000e-04\n",
      "Epoch 21/30\n",
      "20/20 [==============================] - 3s 132ms/step - loss: 0.0240 - accuracy: 0.9922 - val_loss: 0.6486 - val_accuracy: 0.7500 - lr: 2.0000e-04\n",
      "Epoch 22/30\n",
      "20/20 [==============================] - 3s 132ms/step - loss: 0.0297 - accuracy: 0.9891 - val_loss: 0.5444 - val_accuracy: 0.7950 - lr: 2.0000e-04\n",
      "Epoch 23/30\n",
      "20/20 [==============================] - 3s 131ms/step - loss: 0.0235 - accuracy: 0.9906 - val_loss: 0.5478 - val_accuracy: 0.8000 - lr: 2.0000e-04\n",
      "Epoch 24/30\n",
      "20/20 [==============================] - 3s 128ms/step - loss: 0.0151 - accuracy: 0.9922 - val_loss: 0.5452 - val_accuracy: 0.8100 - lr: 2.0000e-04\n",
      "Epoch 25/30\n",
      "20/20 [==============================] - 3s 128ms/step - loss: 0.0150 - accuracy: 0.9984 - val_loss: 0.6107 - val_accuracy: 0.8150 - lr: 2.0000e-04\n",
      "Epoch 26/30\n",
      "20/20 [==============================] - 3s 125ms/step - loss: 0.0123 - accuracy: 0.9984 - val_loss: 0.3497 - val_accuracy: 0.8700 - lr: 2.0000e-04\n",
      "Epoch 27/30\n",
      "20/20 [==============================] - 3s 127ms/step - loss: 0.0197 - accuracy: 0.9937 - val_loss: 0.6285 - val_accuracy: 0.8100 - lr: 2.0000e-04\n",
      "Epoch 28/30\n",
      "10/20 [==============>...............] - ETA: 1s - loss: 0.0228 - accuracy: 0.9937"
     ]
    }
   ],
   "source": [
    "model2 = myModel()\n",
    "\n",
    "#batchSizeVal = 40\n",
    "#epochsVal = 100\n",
    "#stepsPerEpoch = 10\n",
    "#history = model2.fit(X_train, y_train, validation_data=(X_test, y_test), steps_per_epoch = stepsPerEpoch, epochs = epochsVal, batch_size=16,callbacks=[es, rp])\n",
    "batchSizeVal = 40\n",
    "epochsVal = 30\n",
    "stepsPerEpoch = 20\n",
    "# history = model.fit(dataGen.flow(X_train,y_train,batch_size = batchSizeVal),\n",
    "#                    steps_per_epoch = stepsPerEpoch, epochs = epochsVal, validation_data = (X_test,y_test),\n",
    "#                    shuffle = 1)\n",
    "history = model2.fit(X_train, y_train, validation_data=(X_test, y_test), steps_per_epoch = stepsPerEpoch, epochs = epochsVal, batch_size=32,callbacks=[es, rp])\n"
   ]
  },
  {
   "cell_type": "code",
   "execution_count": null,
   "id": "a4d7acd5",
   "metadata": {},
   "outputs": [],
   "source": [
    "model2.evaluate(X_test, y_test)"
   ]
  },
  {
   "cell_type": "code",
   "execution_count": null,
   "id": "0ded05ab",
   "metadata": {},
   "outputs": [],
   "source": [
    "#model2.evaluate(X_validate, y_validate)\n",
    "y_predicted = model2.predict(X_validate)\n",
    "#y_predicted[4]\n",
    "lenofval = len(X_validate)\n",
    "chatlabel = []\n",
    "for x in range (0, lenofval):\n",
    "    #print(x)\n",
    "    pred = np.argmax(y_predicted[x])\n",
    "    #print('prs val',pred)\n",
    "    chatlabel.append(pred)\n",
    "    imageindex.append(x)\n",
    "#chatlabel\n",
    "imageindex\n",
    "df = pd.DataFrame(chatlabel, columns =['chart_type_encoded'])\n",
    "y = ['dot_line', 'hbar_categorical', 'line', 'pie', 'vbar_categorical']\n",
    "label_enc = LabelEncoder()\n",
    "label_enc.fit(y)\n",
    "# Encode the labels in the 'chart_type' column\n",
    "df['chart_type'] = label_enc.inverse_transform(df['chart_type_encoded'])\n",
    "df"
   ]
  },
  {
   "cell_type": "code",
   "execution_count": null,
   "id": "a572cf87",
   "metadata": {},
   "outputs": [],
   "source": [
    "plt.figure(1)\n",
    "plt.plot(history.history['loss'])\n",
    "plt.plot(history.history['val_loss'])\n",
    "plt.legend(['Training','Valiadation'])\n",
    "plt.title('Loss')\n",
    "plt.xlabel('epoch')\n",
    "\n",
    "plt.figure(2)\n",
    "plt.plot(history.history['accuracy'])\n",
    "plt.plot(history.history['val_accuracy'])\n",
    "plt.legend(['Training','Valiadation'])\n",
    "plt.title('Accuracys')\n",
    "plt.xlabel('epoch')\n",
    "plt.show()\n",
    "score = model2.evaluate(X_test,y_test,verbose = 0)\n",
    "print('test score' , score[0])\n",
    "print('Test Accuracy ',score[1])"
   ]
  },
  {
   "cell_type": "code",
   "execution_count": null,
   "id": "bb0bba10",
   "metadata": {},
   "outputs": [],
   "source": [
    "fig = plt.figure(figsize=(10, 10)) # Set Figure\n",
    "\n",
    "y_pred = model2.predict(X_test) # Predict class probabilities as 2 => [0.1, 0, 0.9, 0, 0, 0, 0, 0, 0, 0]\n",
    "\n",
    "Y_pred = np.argmax(y_pred, 1) # Decode Predicted labels\n",
    "Y_test = np.argmax(y_test, 1) # Decode labels\n",
    "\n",
    "mat = confusion_matrix(Y_test, Y_pred) # Confusion matrix\n",
    "\n",
    "# Plot Confusion matrix\n",
    "sns.heatmap(mat.T, square=True, annot=True, cbar=False, cmap=plt.cm.Blues, fmt='.0f')\n",
    "plt.xlabel('Predicted Values')\n",
    "plt.ylabel('True Values');\n",
    "plt.show();"
   ]
  },
  {
   "cell_type": "markdown",
   "id": "b12dc866",
   "metadata": {},
   "source": [
    "## Model 3"
   ]
  },
  {
   "cell_type": "code",
   "execution_count": null,
   "id": "69a33003",
   "metadata": {},
   "outputs": [],
   "source": [
    "model3 = myModel()\n",
    "batchSizeVal = 10\n",
    "epochsVal = 100\n",
    "stepsPerEpoch = 20\n",
    "history = model3.fit(X_train, y_train, validation_data=(X_test, y_test), steps_per_epoch = stepsPerEpoch, epochs = epochsVal, batch_size=12,callbacks=[es, rp])\n"
   ]
  },
  {
   "cell_type": "code",
   "execution_count": null,
   "id": "cf37c642",
   "metadata": {},
   "outputs": [],
   "source": [
    "model3.evaluate(X_test, y_test)"
   ]
  },
  {
   "cell_type": "code",
   "execution_count": null,
   "id": "e02e3e55",
   "metadata": {},
   "outputs": [],
   "source": [
    "plt.figure(1)\n",
    "plt.plot(history.history['loss'])\n",
    "plt.plot(history.history['val_loss'])\n",
    "plt.legend(['Training','Valiadation'])\n",
    "plt.title('Loss')\n",
    "plt.xlabel('epoch')\n",
    "\n",
    "plt.figure(2)\n",
    "plt.plot(history.history['accuracy'])\n",
    "plt.plot(history.history['val_accuracy'])\n",
    "plt.legend(['Training','Valiadation'])\n",
    "plt.title('Accuracys')\n",
    "plt.xlabel('epoch')\n",
    "plt.show()\n",
    "score = model3.evaluate(X_test,y_test,verbose = 0)\n",
    "print('test score' , score[0])\n",
    "print('Test Accuracy ',score[1])"
   ]
  },
  {
   "cell_type": "code",
   "execution_count": null,
   "id": "f98bcedb",
   "metadata": {},
   "outputs": [],
   "source": [
    "fig = plt.figure(figsize=(10, 10)) # Set Figure\n",
    "\n",
    "y_pred = model3.predict(X_test) # Predict class probabilities as 2 => [0.1, 0, 0.9, 0, 0, 0, 0, 0, 0, 0]\n",
    "\n",
    "Y_pred = np.argmax(y_pred, 1) # Decode Predicted labels\n",
    "Y_test = np.argmax(y_test, 1) # Decode labels\n",
    "\n",
    "mat = confusion_matrix(Y_test, Y_pred) # Confusion matrix\n",
    "\n",
    "# Plot Confusion matrix\n",
    "sns.heatmap(mat.T, square=True, annot=True, cbar=False, cmap=plt.cm.Blues, fmt='.0f')\n",
    "plt.xlabel('Predicted Values')\n",
    "plt.ylabel('True Values');\n",
    "plt.show();"
   ]
  },
  {
   "cell_type": "markdown",
   "id": "b74e0c25",
   "metadata": {},
   "source": [
    "## Model 4"
   ]
  },
  {
   "cell_type": "code",
   "execution_count": null,
   "id": "88e7e8e4",
   "metadata": {},
   "outputs": [],
   "source": [
    "model4 = myModel()\n",
    "batchSizeVal = 10\n",
    "epochsVal = 200\n",
    "stepsPerEpoch = 20\n",
    "# history = model4.fit(dataGen.flow(X_train,y_train,batch_size = batchSizeVal),\n",
    "#                    steps_per_epoch = stepsPerEpoch, epochs = epochsVal, validation_data = (X_test,y_test),\n",
    "#                    shuffle = 1,callbacks=[es, rp] )\n",
    "history = model4.fit(X_train, y_train, validation_data=(X_test, y_test), steps_per_epoch = stepsPerEpoch, epochs = epochsVal, batch_size=32,callbacks=[es, rp])\n"
   ]
  },
  {
   "cell_type": "code",
   "execution_count": null,
   "id": "3f467f7c",
   "metadata": {},
   "outputs": [],
   "source": [
    "model4.evaluate(X_test, y_test)"
   ]
  },
  {
   "cell_type": "code",
   "execution_count": null,
   "id": "820e87c8",
   "metadata": {},
   "outputs": [],
   "source": [
    "plt.figure(1)\n",
    "plt.plot(history.history['loss'])\n",
    "plt.plot(history.history['val_loss'])\n",
    "plt.legend(['Training','Valiadation'])\n",
    "plt.title('Loss')\n",
    "plt.xlabel('epoch')\n",
    "\n",
    "plt.figure(2)\n",
    "plt.plot(history.history['accuracy'])\n",
    "plt.plot(history.history['val_accuracy'])\n",
    "plt.legend(['Training','Valiadation'])\n",
    "plt.title('Accuracys')\n",
    "plt.xlabel('epoch')\n",
    "plt.show()\n",
    "score = model4.evaluate(X_test,y_test,verbose = 0)\n",
    "print('test score' , score[0])\n",
    "print('Test Accuracy ',score[1])"
   ]
  },
  {
   "cell_type": "code",
   "execution_count": null,
   "id": "ec0f5836",
   "metadata": {},
   "outputs": [],
   "source": [
    "fig = plt.figure(figsize=(10, 10)) # Set Figure\n",
    "\n",
    "y_pred = model4.predict(X_test) # Predict class probabilities as 2 => [0.1, 0, 0.9, 0, 0, 0, 0, 0, 0, 0]\n",
    "\n",
    "Y_pred = np.argmax(y_pred, 1) # Decode Predicted labels\n",
    "Y_test = np.argmax(y_test, 1) # Decode labels\n",
    "\n",
    "mat = confusion_matrix(Y_test, Y_pred) # Confusion matrix\n",
    "\n",
    "# Plot Confusion matrix\n",
    "sns.heatmap(mat.T, square=True, annot=True, cbar=False, cmap=plt.cm.Blues, fmt='.0f')\n",
    "plt.xlabel('Predicted Values')\n",
    "plt.ylabel('True Values');\n",
    "plt.show();"
   ]
  },
  {
   "cell_type": "code",
   "execution_count": null,
   "id": "8a2cb744",
   "metadata": {},
   "outputs": [],
   "source": [
    "# Get the weights of the model\n",
    "weights = model4.get_weights()\n",
    "\n",
    "# Print the shape of the weights for each layer\n",
    "for i in range(len(weights)):\n",
    "    print(\"Layer {}: {}\".format(i, weights[i].shape))"
   ]
  },
  {
   "cell_type": "code",
   "execution_count": null,
   "id": "7b42882b",
   "metadata": {},
   "outputs": [],
   "source": []
  }
 ],
 "metadata": {
  "kernelspec": {
   "display_name": "Python 3 (ipykernel)",
   "language": "python",
   "name": "python3"
  },
  "language_info": {
   "codemirror_mode": {
    "name": "ipython",
    "version": 3
   },
   "file_extension": ".py",
   "mimetype": "text/x-python",
   "name": "python",
   "nbconvert_exporter": "python",
   "pygments_lexer": "ipython3",
   "version": "3.9.13"
  }
 },
 "nbformat": 4,
 "nbformat_minor": 5
}
